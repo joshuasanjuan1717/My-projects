{
 "cells": [
  {
   "cell_type": "markdown",
   "id": "6ba33610-01cf-4327-b2b7-00baede1a0a2",
   "metadata": {},
   "source": [
    "# Task 3 - Creating Functions\n",
    "\n",
    "In your projects, you may need to create your own functions to do some complex calculations (beyond mean, median etc...).\n",
    "In this question you will write a function to find the roots of a quadratic equation.\n",
    "\n",
    "To refresh your memory from high school math, a quadratic function looks like this:\n",
    "\n",
    "<img src=\"images/quadratic.png\" width=\"500px\">\n",
    "\n",
    "Given the standard form of a quadratic equation, $ax^2 + bx + c = 0$ where *a, b, c* are known real numbers and $a\\neq0$, the quadratic formula to find unknown $x$ is:\n",
    "$$x=\\frac{-b ± \\sqrt{b^2-4ac}}{2a}$$\n",
    "\n",
    "Write a python function that calculates and prints all possible real (i.e. non-complex) answers for $x$. \n",
    "\n",
    "Check your function by running it on some test data points:\n",
    "\n",
    "- `solution(1,1,1)`,\n",
    "- `solution(1,0,-4)`,\n",
    "- `solution(1,2,1)`. \n",
    "\n",
    "#### Sample Output\n",
    ">--> For a=1, b=1, and c=1:<br>\n",
    ">The equation does not have any real solution<br>\n",
    ">--> For a=1, b=0, and c=-4:<br>\n",
    ">x1 = 2.0 and x2 = -2.0<br>\n",
    ">--> For a=1, b=2, and c=1:<br>\n",
    ">x = -1.0<br>"
   ]
  },
  {
   "cell_type": "code",
   "execution_count": 20,
   "id": "c078c01f-c8e7-46df-9e71-48ee46237466",
   "metadata": {},
   "outputs": [],
   "source": [
    "#add your import statements here\n",
    "import numpy as np\n",
    "import math\n"
   ]
  },
  {
   "cell_type": "code",
   "execution_count": 36,
   "id": "041eb2b3-8b17-406e-abf4-9032795b6683",
   "metadata": {},
   "outputs": [],
   "source": [
    "def solution(a, b, c):\n",
    "    # Your solution here\n",
    "    \n",
    "    s = (b*b) - 4*a*c\n",
    "    \n",
    "    \n",
    "    \n",
    "    if a != 0:\n",
    "        if s >= 0:\n",
    "            x1 = ((-1*b)+ math.sqrt(s))/2*a\n",
    "            x2 = ((-1*b)- math.sqrt(s))/2*a\n",
    "            if x1 != x2:\n",
    "                print(\"For a = \" + str(a) + \", \" + \"b = \" + str(b) + \", and c = \" + str(c))\n",
    "                print(\"x1 = %.1f\" % x1 + \" and x2 = %.1f\" %x2)\n",
    "            else:\n",
    "                print(\"For a = \" + str(a) + \", \" + \"b = \" + str(b) + \", and c = \" + str(c))\n",
    "                print(\"x = %.1f\" % x1)\n",
    "        else:\n",
    "            print(\"The equation does not have any real solution\")\n",
    "        \n",
    "    else:\n",
    "        print(\"invalid\")"
   ]
  },
  {
   "cell_type": "code",
   "execution_count": 43,
   "id": "fbaaf1cb-a00a-45d0-ba6d-703fbc23a1d3",
   "metadata": {},
   "outputs": [
    {
     "name": "stdout",
     "output_type": "stream",
     "text": [
      "The equation does not have any real solution\n"
     ]
    }
   ],
   "source": [
    "solution(1,1,1)"
   ]
  },
  {
   "cell_type": "code",
   "execution_count": 44,
   "id": "cc93d5f3-6198-4654-8cac-fb76928d6abe",
   "metadata": {},
   "outputs": [
    {
     "name": "stdout",
     "output_type": "stream",
     "text": [
      "For a = 1, b = 0, and c = -4\n",
      "x1 = 2.0 and x2 = -2.0\n"
     ]
    }
   ],
   "source": [
    "solution(1,0,-4)"
   ]
  },
  {
   "cell_type": "code",
   "execution_count": 45,
   "id": "351016bd-bcd5-4b45-8cca-95f2f16cc196",
   "metadata": {},
   "outputs": [
    {
     "name": "stdout",
     "output_type": "stream",
     "text": [
      "For a = 1, b = 2, and c = 1\n",
      "x = -1.0\n"
     ]
    }
   ],
   "source": [
    "solution(1,2,1)"
   ]
  },
  {
   "cell_type": "code",
   "execution_count": null,
   "id": "09b2b2cf",
   "metadata": {},
   "outputs": [],
   "source": []
  }
 ],
 "metadata": {
  "kernelspec": {
   "display_name": "Python 3 (ipykernel)",
   "language": "python",
   "name": "python3"
  },
  "language_info": {
   "codemirror_mode": {
    "name": "ipython",
    "version": 3
   },
   "file_extension": ".py",
   "mimetype": "text/x-python",
   "name": "python",
   "nbconvert_exporter": "python",
   "pygments_lexer": "ipython3",
   "version": "3.9.7"
  }
 },
 "nbformat": 4,
 "nbformat_minor": 5
}

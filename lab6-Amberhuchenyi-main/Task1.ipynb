{
 "cells": [
  {
   "cell_type": "markdown",
   "id": "6ba33610-01cf-4327-b2b7-00baede1a0a2",
   "metadata": {},
   "source": [
    "## Task 1 - Creating and Calling Functions\n",
    "\n",
    "### 1.1 - Average of a list\n",
    "\n",
    "Write a Python function that returns the average of a list of values, and then test it with a variety of inputs.\n",
    "\n",
    "**Restriction: I want you to write the average function yourself (from scratch), you cannot use `np.mean()`, `mean()`, or any other average function.**\n",
    "\n",
    "*Hint: Remember the mean of a function is just the sum of all the values, divided by the number of values in the list.*\n",
    "\n",
    "Requirements:\n",
    "\n",
    "- Create function with name ``avglist`` that accepts three parameters: \n",
    "    - ``lst`` - list of numbers (required parameter)\n",
    "    - ``low`` - miminum value (not inclusive). (optional parameter, default = 0)\n",
    "    - ``high`` - maximum value (not inclusive). (optional parameter default = 100)\n",
    "- Your function will calculate and return the average of all values in the range (``low``, ``high``).\n",
    "- Your function should have an appropriate docstring.\n",
    "- Call ``help(avglist)`` to display function information.\n",
    "- Create a list with the numbers 1 to 10 and call `avglist()` with default range and print the result.\n",
    "- Create a list with the numbers 1 to 100 and call `avglist()` with range (``20``, ``80``) and print result.\n",
    "- Create a list with 100 random numbers between 1 and 100 and call avglist() with range (``30``, ``100``) and print the result. Note: Will need to ``import random`` and use ``random.randint(1,100)``. \n",
    "\n",
    "Reminder: To set the seed, use `random.seed(100)`.\n",
    "\n",
    "#### Sample Output\n",
    "\n",
    "For this question, no sample input is provided.\n"
   ]
  },
  {
   "cell_type": "code",
   "execution_count": 104,
   "id": "c078c01f-c8e7-46df-9e71-48ee46237466",
   "metadata": {},
   "outputs": [],
   "source": [
    "#add your import statements here\n",
    "\n",
    "import numpy as np\n",
    "import random"
   ]
  },
  {
   "cell_type": "code",
   "execution_count": 125,
   "id": "041eb2b3-8b17-406e-abf4-9032795b6683",
   "metadata": {},
   "outputs": [],
   "source": [
    "# Your solution here\n",
    "\n",
    "def avglist(lst):\n",
    "    \"\"\"\n",
    "    You must put the list and the range\n",
    "    \"\"\"\n",
    "    \n",
    "    sum = 0\n",
    "    \n",
    "    a =len(lst)\n",
    "    for num in lst:\n",
    "        sum = sum + num\n",
    "    \n",
    "    avr = sum /a\n",
    "    return avr\n"
   ]
  },
  {
   "cell_type": "code",
   "execution_count": 126,
   "id": "2bb7d16d",
   "metadata": {},
   "outputs": [
    {
     "name": "stdout",
     "output_type": "stream",
     "text": [
      "Help on function avglist in module __main__:\n",
      "\n",
      "avglist(lst)\n",
      "    You must put the list and the range\n",
      "\n"
     ]
    }
   ],
   "source": [
    "help(avglist)"
   ]
  },
  {
   "cell_type": "code",
   "execution_count": 96,
   "id": "3c7e0806",
   "metadata": {},
   "outputs": [
    {
     "name": "stdout",
     "output_type": "stream",
     "text": [
      "List:  [ 1  2  3  4  5  6  7  8  9 10]\n",
      "The average of list from 1 to 10 with range(1, 10) is 5.5\n"
     ]
    }
   ],
   "source": [
    "low = 1\n",
    "high = 10\n",
    "n = 10\n",
    "lst = np.arange(low,high+1)\n",
    "print(\"List: \", lst)\n",
    "print(\"The average of list from 1 to \" + str(n) + \" with range\" + \"(\" + str(low) + \", \" + str(high) + \")\" + \" is\", avglist(lst))"
   ]
  },
  {
   "cell_type": "code",
   "execution_count": 95,
   "id": "9bb56883",
   "metadata": {},
   "outputs": [
    {
     "name": "stdout",
     "output_type": "stream",
     "text": [
      "List:  [20 21 22 23 24 25 26 27 28 29 30 31 32 33 34 35 36 37 38 39 40 41 42 43\n",
      " 44 45 46 47 48 49 50 51 52 53 54 55 56 57 58 59 60 61 62 63 64 65 66 67\n",
      " 68 69 70 71 72 73 74 75 76 77 78 79 80]\n",
      "The average of list from 1 to 100 with range(20, 80) is 50.0\n"
     ]
    }
   ],
   "source": [
    "low = 20\n",
    "high = 80\n",
    "n = 100\n",
    "lst = np.arange(low,high+1)\n",
    "print(\"List: \", lst)\n",
    "print(\"The average of list from 1 to \" + str(n) + \" with range\" + \"(\" + str(low) + \", \" + str(high) + \")\" + \" is\", avglist(lst))"
   ]
  },
  {
   "cell_type": "code",
   "execution_count": 106,
   "id": "e1ae9a99",
   "metadata": {},
   "outputs": [],
   "source": [
    "random.seed(100)"
   ]
  },
  {
   "cell_type": "code",
   "execution_count": 124,
   "id": "5065e286",
   "metadata": {},
   "outputs": [
    {
     "name": "stdout",
     "output_type": "stream",
     "text": [
      "List:  [ 2  2  3  6 10 11 13 15 15 16 16 17 18 19 20 21 21 21 22 24 24 25 25 27\n",
      " 28 31 33 33 33 33 34 36 38 41 44 44 45 47 48 48 54 54 54 56 57 65 66 67\n",
      " 69 69 71 71 73 75 76 76 78 79 80 80 81 83 83 86 88 89 94 96 97 98 98]\n",
      "The average of list from 1 to 100 with range(30, 100) is 47.49295774647887\n"
     ]
    }
   ],
   "source": [
    "low = 30\n",
    "high = 100\n",
    "n = 100\n",
    "lst = np.random.randint(1,100,(high-low+1))\n",
    "lst_sort = np.sort(lst)\n",
    "print(\"List: \", lst_sort)\n",
    "\n",
    "print(\"The average of list from 1 to \" + str(n) + \" with range\" + \"(\" + str(low) + \", \" + str(high) + \")\" + \" is\", avglist(lst))\n"
   ]
  },
  {
   "cell_type": "code",
   "execution_count": null,
   "id": "fce35bf4",
   "metadata": {},
   "outputs": [],
   "source": []
  }
 ],
 "metadata": {
  "kernelspec": {
   "display_name": "Python 3 (ipykernel)",
   "language": "python",
   "name": "python3"
  },
  "language_info": {
   "codemirror_mode": {
    "name": "ipython",
    "version": 3
   },
   "file_extension": ".py",
   "mimetype": "text/x-python",
   "name": "python",
   "nbconvert_exporter": "python",
   "pygments_lexer": "ipython3",
   "version": "3.9.7"
  }
 },
 "nbformat": 4,
 "nbformat_minor": 5
}

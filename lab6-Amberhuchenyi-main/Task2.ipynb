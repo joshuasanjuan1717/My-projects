{
 "cells": [
  {
   "cell_type": "markdown",
   "id": "6ba33610-01cf-4327-b2b7-00baede1a0a2",
   "metadata": {},
   "source": [
    "## Task 2 - Creating and Calling Functions\n",
    "\n",
    "### 2.1 - Calculating Taxes\n",
    "\n",
    "Write a Python function called `calc_tax()` that calculates and prints the tax on a purchased item.\n",
    "The input of this function should be the name of the item (a string), and the pre-tax price of the item (a number).\n",
    "\n",
    "Requirements:\n",
    "\n",
    "- Add a docstring to this function so users know how to use it.\n",
    "- Calculate the provincial tax (5%) federal tax (7%), and store them as separate variables.\n",
    "- Choose one: \n",
    "    - A) Add at least two assert statements as tests for your code OR \n",
    "    - B) Use try/except statements to test for inputs to the function.\n",
    "- Print the item amount, the provincial tax, the federal tax, and the total with all taxes included.\n",
    "- Round tax amounts, and the final price to the nearest cent and display with exactly two decimal points.\n",
    "\n",
    "#### Sample Output\n",
    "\n",
    "> \\>\\> calc_tax('candy', 10) # Run the `calc_tax()` function on candy to get the following output\n",
    "> \n",
    "> candy\n",
    ">\n",
    "> pre-tax price of: \\$10.00\n",
    "> \n",
    "> provincial tax: \\$0.50\n",
    "> \n",
    "> federal tax: \\$0.70\n",
    "> \n",
    "> total price of: $11.00\n"
   ]
  },
  {
   "cell_type": "code",
   "execution_count": 1,
   "id": "c078c01f-c8e7-46df-9e71-48ee46237466",
   "metadata": {},
   "outputs": [],
   "source": [
    "#add your import statements here\n",
    "import numpy as np\n",
    "\n"
   ]
  },
  {
   "cell_type": "code",
   "execution_count": 84,
   "id": "041eb2b3-8b17-406e-abf4-9032795b6683",
   "metadata": {},
   "outputs": [],
   "source": [
    "# Your solution here\n",
    "def calc_tax(product,price):\n",
    "    \"\"\"\n",
    "    You have to input string first and integer if any\n",
    "    \n",
    "    Then you have to input integer\n",
    "    The price must be integer\n",
    "    \n",
    "    The provincial tax (5%) and the federal tax (7%)\n",
    "    \n",
    "    Example:\n",
    "    calc_tax('candy', 10)\n",
    "    \n",
    "    \"\"\"\n",
    "    prov_tax = 0.05\n",
    "    fed_tax = 0.07\n",
    "    \n",
    "    try:\n",
    "        Product = str(product)\n",
    "        Price=int(price)\n",
    "        print(Product)\n",
    "        print(\"pre-tax price of: $%.2f\" % round(Price,2))\n",
    "        print(\"provincial tax: $%.2f\" % round(Price*prov_tax,2))\n",
    "        print(\"federal tax: $%.2f\" % round(Price*fed_tax,2))\n",
    "        print(\"total price of: $%.2f\" % round(Price+Price*prov_tax+Price*fed_tax,2))\n",
    "        print(\"Or $%.2f\"% round(Price+Price*prov_tax+Price*fed_tax))\n",
    "        \n",
    "    except:\n",
    "        print ('You have entered an invalid value.')\n",
    "    "
   ]
  },
  {
   "cell_type": "code",
   "execution_count": 85,
   "id": "461de707",
   "metadata": {},
   "outputs": [
    {
     "name": "stdout",
     "output_type": "stream",
     "text": [
      "Help on function calc_tax in module __main__:\n",
      "\n",
      "calc_tax(product, price)\n",
      "    You have to input string first and integer if any\n",
      "    \n",
      "    Then you have to input integer\n",
      "    The price must be integer\n",
      "    \n",
      "    The provincial tax (5%) and the federal tax (7%)\n",
      "    \n",
      "    Example:\n",
      "    calc_tax('candy', 10)\n",
      "\n"
     ]
    }
   ],
   "source": [
    "help(calc_tax)"
   ]
  },
  {
   "cell_type": "code",
   "execution_count": 86,
   "id": "753582d2",
   "metadata": {},
   "outputs": [
    {
     "name": "stdout",
     "output_type": "stream",
     "text": [
      "candy\n",
      "pre-tax price of: $10.00\n",
      "provincial tax: $0.50\n",
      "federal tax: $0.70\n",
      "total price of: $11.20\n",
      "Or $11.00\n"
     ]
    }
   ],
   "source": [
    " calc_tax('candy', 10)"
   ]
  },
  {
   "cell_type": "code",
   "execution_count": null,
   "id": "bdddd78c",
   "metadata": {},
   "outputs": [],
   "source": []
  }
 ],
 "metadata": {
  "kernelspec": {
   "display_name": "Python 3 (ipykernel)",
   "language": "python",
   "name": "python3"
  },
  "language_info": {
   "codemirror_mode": {
    "name": "ipython",
    "version": 3
   },
   "file_extension": ".py",
   "mimetype": "text/x-python",
   "name": "python",
   "nbconvert_exporter": "python",
   "pygments_lexer": "ipython3",
   "version": "3.9.7"
  }
 },
 "nbformat": 4,
 "nbformat_minor": 5
}
